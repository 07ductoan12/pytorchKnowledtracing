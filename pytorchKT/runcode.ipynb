{
 "cells": [
  {
   "cell_type": "code",
   "execution_count": 1,
   "metadata": {},
   "outputs": [],
   "source": [
    "import os\n",
    "import json\n",
    "import copy\n",
    "import pandas as pd\n",
    "from pytorchKT.models import load_model\n",
    "from pytorchKT.models.utils import eval_kcs_one_user"
   ]
  },
  {
   "cell_type": "code",
   "execution_count": 2,
   "metadata": {},
   "outputs": [],
   "source": [
    "save_dir = \"./saved_model/train_dimkt_cc_azota_qid_saved_model_42_0_0.2_0.001_768_64_300_100\""
   ]
  },
  {
   "cell_type": "code",
   "execution_count": 3,
   "metadata": {},
   "outputs": [],
   "source": [
    "with open(os.path.join(save_dir, \"config.json\"), encoding=\"utf-8\") as fin:\n",
    "    config = json.load(fin)\n",
    "    model_config = copy.deepcopy(config[\"model_config\"])\n",
    "    data_config = config[\"data_config\"]\n",
    "    emb_type = config[\"params\"][\"emb_type\"]\n",
    "    model_name = config[\"params\"][\"model_name\"]\n",
    "\n",
    "model = load_model(\n",
    "    model_name=model_name,\n",
    "    model_config=model_config,\n",
    "    data_config=data_config,\n",
    "    emb_type=emb_type,\n",
    "    ckpt_path=save_dir,\n",
    ")"
   ]
  },
  {
   "cell_type": "code",
   "execution_count": null,
   "metadata": {},
   "outputs": [],
   "source": [
    "df = pd.read_csv(os.path.join(os.path.))"
   ]
  }
 ],
 "metadata": {
  "kernelspec": {
   "display_name": "pytorch",
   "language": "python",
   "name": "python3"
  },
  "language_info": {
   "codemirror_mode": {
    "name": "ipython",
    "version": 3
   },
   "file_extension": ".py",
   "mimetype": "text/x-python",
   "name": "python",
   "nbconvert_exporter": "python",
   "pygments_lexer": "ipython3",
   "version": "3.11.5"
  }
 },
 "nbformat": 4,
 "nbformat_minor": 2
}
